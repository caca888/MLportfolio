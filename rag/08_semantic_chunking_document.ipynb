{
 "cells": [
  {
   "cell_type": "markdown",
   "metadata": {},
   "source": [
    "# Semantic Chunking for Document Processing\n",
    "## Overview\n",
    "This code implements a semantic chunking approach for processing and retrieving information from PDF docuemnts. Unlike traditional methods that split text based on fixed character or word counts, semantic chunking aims to create more meaningful and context-aware text segments.\n",
    "## Motivation\n",
    "Traditional text splitting methods often break documents at arbitrary points, potentially disrupting the flow of information and context. Semantic chunking addresses this issue by attempting to split text at more natural breakpoints, preserving semantic coherence within each chunk.\n",
    "## Key Components\n",
    "1. PDF processing and text extraction\n",
    "2. Semantic chunking using LangChain's Semantic Chunker\n",
    "3. Vector store creation using FAISS and embeddings\n",
    "4. Retriever setup for querying the processed documents\n",
    "## Method Details\n",
    "### Document Preprocessing\n",
    "PDF is read and converted to a string using `read_pdf_to_string` function\n",
    "### Semantic Chunking\n",
    "1. Utilizes LangChain's `SemanticChunker` with embeddings\n",
    "2. Three breakpoint types are available:\n",
    "    - `percentile`: Splits at differences greater than the X percentile\n",
    "    - `standard_deviation`: Splits at differences greater than X standard deviations\n",
    "    - `interquartile`: Uses the interquartile distance to determine split points\n",
    "3. In this implementation, the `percentile` method is used with a threshold of 90.\n",
    "### Vector Store Creatin\n",
    "1. Embeddings are used to create vector representations of the semantic chunks\n",
    "2. FAISS vector store is created from these embeddings for efficient similarity serach\n",
    "### Retriever Setup\n",
    "Retriever is configured to fetch the top 2 most relevant chunks for a given query\n",
    "## Key Features\n",
    "1. Context-Aware Splitting: Attempts to maintain semantic coherence within chunks\n",
    "2. Flexible Configureation: Allows for different breakpoint types and thresholds\n",
    "3. Integration with Advanced NLP tools for both chunking and retrieval\n",
    "## Benifits of this Approach\n",
    "1. Improved Coherence: Chunks are more likely to contain complete throughts or ideas\n",
    "2. Better Retrieval Relevance: By preserving context, retrieval accuracy may be enhanced\n",
    "3. Adaptability: The chunking method can be adjusted based on the nature of the documents and retrieval needs\n",
    "4. Potentail for Better Understanding: LLMs or downstream tasks may perform better with more coherent text segments\n",
    "## Example Usage\n",
    "The code includes a test query: \"What is the main cause of climate change?\". This demonstrates how the semantic chunking and retrieval system can be used to find relevant information from the processed document.\n",
    "## Conclusion\n",
    "Semantic chunking represents an advanced approach to document processing for retrieval systems: By attempting to maintain semantic coherence within text segments, it has the potential to improve the quality of retrieved information and enhance the performance of downstream NLP tasks. This technique is particualrly valuable for processing long, complex documents where maintaining context is crucial, such as scientific papers, legal documents, or comprehensive reports."
   ]
  },
  {
   "cell_type": "code",
   "execution_count": 1,
   "metadata": {},
   "outputs": [],
   "source": [
    "import os\n",
    "from dotenv import load_dotenv\n",
    "\n",
    "from langchain_openai.chat_models.azure import AzureChatOpenAI\n",
    "load_dotenv()\n",
    "openai_endpoint = os.environ.get(\"AZURE_OPENAI_ENDPOINT\")\n",
    "openai_api_key = os.environ.get(\"AZURE_OPENAI_API_KEY\")\n",
    "openai_deployment = os.getenv(\"AZURE_OPENAI_DEPLOYMENT_ID\")\n",
    "openai_api_version = os.getenv(\"AZURE_API_VERSION\")\n",
    "\n",
    "llm = AzureChatOpenAI(\n",
    "    azure_deployment=openai_deployment,\n",
    "    api_version=\"2024-10-01-preview\",\n",
    "    azure_endpoint=f\"{openai_endpoint}openai/deployments/{openai_deployment}/chat/completions?api-version=2024-10-01-preview\",\n",
    "    temperature=0,\n",
    "    logprobs=True,\n",
    ")"
   ]
  },
  {
   "cell_type": "code",
   "execution_count": 2,
   "metadata": {},
   "outputs": [],
   "source": [
    "path = \"./data/Understanding_Climate_Change.pdf\""
   ]
  },
  {
   "cell_type": "code",
   "execution_count": 5,
   "metadata": {},
   "outputs": [],
   "source": [
    "from helper_functions import read_pdf_to_string\n",
    "content = read_pdf_to_string(path)"
   ]
  },
  {
   "cell_type": "code",
   "execution_count": 4,
   "metadata": {},
   "outputs": [],
   "source": [
    "from langchain_experimental.text_splitter import SemanticChunker\n",
    "from langchain_openai.embeddings import AzureOpenAIEmbeddings\n",
    "openai_embedding = os.getenv(\"AZURE_OPENAI_EMBEDDING_DEPLOYMENT_ID\")\n",
    "embeddings = AzureOpenAIEmbeddings(\n",
    "    deployment=openai_embedding,\n",
    "    model=\"text-embedding-ada-002\",\n",
    "    chunk_size=16\n",
    ")\n",
    "text_splitter = SemanticChunker(embeddings, breakpoint_threshold_type=\"percentile\", breakpoint_threshold_amount=90)\n"
   ]
  },
  {
   "cell_type": "code",
   "execution_count": 6,
   "metadata": {},
   "outputs": [],
   "source": [
    "docs = text_splitter.create_documents([content])"
   ]
  },
  {
   "cell_type": "code",
   "execution_count": 7,
   "metadata": {},
   "outputs": [],
   "source": [
    "from langchain_community.vectorstores import FAISS\n",
    "vectorestore = FAISS.from_documents(docs, embedding=embeddings)\n",
    "chunks_query_retriever = vectorestore.as_retriever(search_kwargs={\"k\":2})"
   ]
  },
  {
   "cell_type": "code",
   "execution_count": 9,
   "metadata": {},
   "outputs": [
    {
     "name": "stdout",
     "output_type": "stream",
     "text": [
      "Context 1:\n",
      "The Intergovernmental Panel on Climate Change (IPCC) has \n",
      "documented these changes extensively. Ice core samples, tree rings, and ocean sediments \n",
      "provide a historical record that scientists use to understand past climate conditions and \n",
      "predict future trends. The evidence overwhelmingly shows that recent changes are primarily \n",
      "driven by human activities, particularly the emission of greenhouse gases. Chapter 2: Causes of Climate Change \n",
      "Greenhouse Gases \n",
      "The primary cause of recent climate change is the increase in greenhouse gases in the \n",
      "atmosphere. Greenhouse gases, such as carbon dioxide (CO2), methane (CH4), and nitrous \n",
      "oxide (N2O), trap heat from the sun, creating a \"greenhouse effect.\" This effect is essential \n",
      "for life on Earth, as it keeps the planet warm enough to support life. However, human \n",
      "activities have intensified this natural process, leading to a warmer climate. Fossil Fuels \n",
      "Burning fossil fuels for energy releases large amounts of CO2. This includes coal, oil, and \n",
      "natural gas used for electricity, heating, and transportation. The industrial revolution marked \n",
      "the beginning of a significant increase in fossil fuel consumption, which continues to rise \n",
      "today. Coal \n",
      "Coal is the most carbon-intensive fossil fuel, and its use for electricity generation is a major \n",
      "source of CO2 emissions. Despite a decline in some regions, coal remains a significant \n",
      "energy source globally. It is mined extensively in countries like China, India, and the United \n",
      "States, contributing significantly to their energy supplies and CO2 footprints. Oil \n",
      "Oil is used primarily for transportation fuels, such as gasoline and diesel. The combustion of \n",
      "oil products releases significant amounts of CO2 and other pollutants, contributing to climate \n",
      "change and air quality issues. The global oil industry is vast, involving extraction, refining, \n",
      "and distribution, with significant geopolitical and economic implications. Natural Gas \n",
      "Natural gas is the least carbon-intensive fossil fuel and is often seen as a \"bridge fuel\" to a \n",
      "lower-carbon future. However, its extraction and use still contribute to greenhouse gas \n",
      "emissions, particularly methane, which is a potent greenhouse gas.\n",
      "\n",
      "\n",
      "Context 2:\n",
      "Understanding Climate Change \n",
      "Chapter 1: Introduction to Climate Change \n",
      "Climate change refers to significant, long-term changes in the global climate. The term \n",
      "\"global climate\" encompasses the planet's overall weather patterns, including temperature, \n",
      "precipitation, and wind patterns, over an extended period. Over the past century, human \n",
      "activities, particularly the burning of fossil fuels and deforestation, have significantly \n",
      "contributed to climate change. Historical Context \n",
      "The Earth's climate has changed throughout history. Over the past 650,000 years, there have \n",
      "been seven cycles of glacial advance and retreat, with the abrupt end of the last ice age about \n",
      "11,700 years ago marking the beginning of the modern climate era and human civilization. Most of these climate changes are attributed to very small variations in Earth's orbit that \n",
      "change the amount of solar energy our planet receives. During the Holocene epoch, which \n",
      "began at the end of the last ice age, human societies flourished, but the industrial era has seen \n",
      "unprecedented changes. Modern Observations \n",
      "Modern scientific observations indicate a rapid increase in global temperatures, sea levels, \n",
      "and extreme weather events.\n",
      "\n",
      "\n"
     ]
    }
   ],
   "source": [
    "from helper_functions import show_context\n",
    "from helper_functions import retrieve_context_per_question\n",
    "test_query = \"What is the main cause of climate change?\"\n",
    "context = retrieve_context_per_question(test_query, chunks_query_retriever)\n",
    "show_context(context)"
   ]
  }
 ],
 "metadata": {
  "kernelspec": {
   "display_name": "venv",
   "language": "python",
   "name": "python3"
  },
  "language_info": {
   "codemirror_mode": {
    "name": "ipython",
    "version": 3
   },
   "file_extension": ".py",
   "mimetype": "text/x-python",
   "name": "python",
   "nbconvert_exporter": "python",
   "pygments_lexer": "ipython3",
   "version": "3.12.6"
  }
 },
 "nbformat": 4,
 "nbformat_minor": 2
}
