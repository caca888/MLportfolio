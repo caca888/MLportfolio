{
 "cells": [
  {
   "cell_type": "markdown",
   "metadata": {},
   "source": [
    "# Explainable Retrieval in Document Serach\n",
    "## Overview\n",
    "This code implements an Explainable Retriever, a system that not only retrieves relevant documents based on a query but also provides explainations for why each retrieved document is relevant. It combines vector-based similarity serach with natural langugage explanations, enhancing the transparency and interpretability of the retrieval process.\n",
    "## Motivation\n",
    "Traditional document retrieval systems often work as black boxes, providing results without explaining why they were chosen. This lack of transparency can be problematic in scenarios where understanding the reasoning behind the results is crucial. The Explainable Retriever addresses this by offerin ginsights into the relevance of each retrieved document.\n",
    "## Key Components\n",
    "1. Vector store creation from input texts\n",
    "2. Base retriever using FAISS for efficient similarity search\n",
    "3. LLM for generating explanations\n",
    "4. Custom ExpalinableRetriever class that combines retrieval and explanation generation\n",
    "## Benefits of this Approach\n",
    "1. Transparency: Users can understand why specific documents were retrieved\n",
    "2. Trust: Explanations build user confidence in the system's results\n",
    "3. Learning: Users can gain insights into the relationships between queries and documents\n",
    "4. Debugging: Easier to identify and correct issues in the retrieval process\n",
    "5. Customization: The explanation prompt can be tailored for different user cases or domains\n",
    "## Conclusion\n",
    "The Explainable Retriever represents a significant step towards more interpretable and trustworthy information retrieval systems. By providing natural language explanations alongside retrieved documents, it bridges the gap between powerful vector-based search techniques and human understanding. This approach has potential applications in various fields where the reasoning behind information retrieval is as important as the retrieved information itself."
   ]
  },
  {
   "cell_type": "code",
   "execution_count": 2,
   "metadata": {},
   "outputs": [],
   "source": [
    "import os\n",
    "from dotenv import load_dotenv\n",
    "\n",
    "from langchain_openai.chat_models.azure import AzureChatOpenAI\n",
    "load_dotenv()\n",
    "openai_endpoint = os.environ.get(\"AZURE_OPENAI_ENDPOINT\")\n",
    "openai_api_key = os.environ.get(\"AZURE_OPENAI_API_KEY\")\n",
    "openai_deployment = os.getenv(\"AZURE_OPENAI_DEPLOYMENT_ID\")\n",
    "openai_api_version = os.getenv(\"AZURE_API_VERSION\")\n",
    "\n",
    "llm = AzureChatOpenAI(\n",
    "    azure_deployment=openai_deployment,\n",
    "    api_version=\"2024-10-01-preview\",\n",
    "    azure_endpoint=f\"{openai_endpoint}openai/deployments/{openai_deployment}/chat/completions?api-version=2024-10-01-preview\",\n",
    "    temperature=0,\n",
    "    logprobs=True,\n",
    ")"
   ]
  },
  {
   "cell_type": "code",
   "execution_count": 4,
   "metadata": {},
   "outputs": [],
   "source": [
    "openai_embedding = os.getenv(\"AZURE_OPENAI_EMBEDDING_DEPLOYMENT_ID\")\n",
    "\n",
    "from langchain_openai.embeddings.azure import AzureOpenAIEmbeddings\n",
    "embeddings = AzureOpenAIEmbeddings(\n",
    "    deployment=openai_embedding,\n",
    "    model=\"text-embedding-ada-002\",\n",
    "    chunk_size=16\n",
    ")\n"
   ]
  },
  {
   "cell_type": "code",
   "execution_count": 5,
   "metadata": {},
   "outputs": [],
   "source": [
    "from langchain.vectorstores import FAISS\n",
    "from langchain.prompts import PromptTemplate"
   ]
  },
  {
   "cell_type": "code",
   "execution_count": 6,
   "metadata": {},
   "outputs": [],
   "source": [
    "class ExplainableRetriever:\n",
    "    def __init__(self, texts) -> None:\n",
    "        self.embeddings = embeddings\n",
    "        self.vectorstore = FAISS.from_texts(texts, self.embeddings)\n",
    "        self.llm = llm\n",
    "\n",
    "        self.retriever = self.vectorstore.as_retriever(search_kwargs={\"k\": 5})\n",
    "\n",
    "        explain_prompt = PromptTemplate(\n",
    "            input_variables=[\"query\", \"context\"],\n",
    "            template=\"\"\"\n",
    "            Analyze the relationship between the following query and the retrieved context.\n",
    "            Explain why this context is relevant to the query and how it might help answer the query.\n",
    "            \n",
    "            Query: {query}\n",
    "            \n",
    "            Context: {context}\n",
    "            \n",
    "            Explanation:\n",
    "            \"\"\"\n",
    "        )\n",
    "\n",
    "        self.explain_chain = explain_prompt | self.llm\n",
    "\n",
    "    def retrieve_and_explain(self, query):\n",
    "        docs = self.retriever.invoke(query)\n",
    "\n",
    "        explained_results = []\n",
    "        for doc in docs:\n",
    "            input_data = {\n",
    "                \"query\": query,\n",
    "                \"context\": doc.page_content\n",
    "            }\n",
    "\n",
    "            explanation = self.explain_chain.invoke(input_data).content\n",
    "            explained_results.append({\n",
    "                \"content\": doc.page_content,\n",
    "                \"explanation\": explanation\n",
    "            })\n",
    "\n",
    "        return explained_results"
   ]
  },
  {
   "cell_type": "code",
   "execution_count": 7,
   "metadata": {},
   "outputs": [],
   "source": [
    "texts = [\n",
    "    \"The sky is blue because of the way sunlight interacts with the atmosphere.\",\n",
    "    \"Photosynthesis is the process by which plants use sunlight to produce energy.\",\n",
    "    \"Global warming is caused by the increase of greenhouse gases in Earth's atmosphere.\"\n",
    "]\n",
    "\n",
    "explainable_retriever = ExplainableRetriever(texts)"
   ]
  },
  {
   "cell_type": "code",
   "execution_count": 8,
   "metadata": {},
   "outputs": [
    {
     "name": "stdout",
     "output_type": "stream",
     "text": [
      "Result 1:\n",
      "Content: The sky is blue because of the way sunlight interacts with the atmosphere.\n",
      "Explanation: The query \"Why is the sky blue?\" is asking for an explanation of the phenomenon that causes the sky to appear blue to the human eye. The provided context, \"The sky is blue because of the way sunlight interacts with the atmosphere,\" is directly relevant to the query as it begins to address the underlying reason for the sky's color.\n",
      "\n",
      "To elaborate, the context is relevant because it points to the interaction between sunlight and the Earth's atmosphere as the key factor. This interaction involves a process known as Rayleigh scattering, where shorter wavelengths of light (blue and violet) are scattered in all directions by the gases and particles in the atmosphere. Since our eyes are more sensitive to blue light and some of the violet light is absorbed by the upper atmosphere, the sky appears predominantly blue to us.\n",
      "\n",
      "Therefore, the context helps answer the query by identifying the fundamental cause of the sky's blue color, which is the scattering of sunlight by the atmosphere. Further details about Rayleigh scattering and the specific properties of light and atmospheric particles would provide a more comprehensive answer, but the context already sets the stage for understanding the basic principle behind the phenomenon.\n",
      "\n",
      "Result 2:\n",
      "Content: Global warming is caused by the increase of greenhouse gases in Earth's atmosphere.\n",
      "Explanation: The query \"Why is the sky blue?\" is asking for an explanation of the phenomenon that causes the sky to appear blue to the human eye. This is a question related to atmospheric science and the scattering of light.\n",
      "\n",
      "The provided context, \"Global warming is caused by the increase of greenhouse gases in Earth's atmosphere,\" is discussing a different topic within atmospheric science. It focuses on the impact of greenhouse gases on Earth's climate, which is related to environmental science and climate change.\n",
      "\n",
      "The context is not directly relevant to the query because it does not address the scattering of light or the reasons behind the sky's blue color. Instead, it discusses the broader issue of global warming and its causes. While both the query and the context pertain to atmospheric phenomena, they are concerned with different aspects of the atmosphere.\n",
      "\n",
      "To answer the query \"Why is the sky blue?\", a more relevant context would involve an explanation of Rayleigh scattering, which describes how shorter wavelengths of light (blue and violet) are scattered in all directions by the molecules and small particles in the atmosphere, making the sky appear blue to our eyes.\n",
      "\n",
      "Result 3:\n",
      "Content: Photosynthesis is the process by which plants use sunlight to produce energy.\n",
      "Explanation: The query \"Why is the sky blue?\" is asking for an explanation of the phenomenon that causes the sky to appear blue to the human eye. This is a question related to atmospheric science and the scattering of light.\n",
      "\n",
      "The provided context, \"Photosynthesis is the process by which plants use sunlight to produce energy,\" is not directly relevant to the query. Photosynthesis is a biological process that occurs in plants, involving the conversion of light energy into chemical energy. It does not address the principles of light scattering or atmospheric conditions that explain why the sky appears blue.\n",
      "\n",
      "To answer the query effectively, the context should include information about Rayleigh scattering, which is the scattering of light by particles much smaller than the wavelength of light. This scattering causes shorter wavelengths of light (blue and violet) to be scattered more than longer wavelengths (red and yellow), making the sky appear predominantly blue to human observers.\n",
      "\n",
      "In summary, the context provided does not help answer the query about why the sky is blue because it pertains to a different scientific process unrelated to the scattering of light in the atmosphere.\n",
      "\n"
     ]
    }
   ],
   "source": [
    "query = \"Why is the sky blue?\"\n",
    "results = explainable_retriever.retrieve_and_explain(query)\n",
    "\n",
    "for i, result in enumerate(results, 1):\n",
    "    print(f\"Result {i}:\")\n",
    "    print(f\"Content: {result['content']}\")\n",
    "    print(f\"Explanation: {result['explanation']}\")\n",
    "    print()"
   ]
  }
 ],
 "metadata": {
  "kernelspec": {
   "display_name": "venv",
   "language": "python",
   "name": "python3"
  },
  "language_info": {
   "codemirror_mode": {
    "name": "ipython",
    "version": 3
   },
   "file_extension": ".py",
   "mimetype": "text/x-python",
   "name": "python",
   "nbconvert_exporter": "python",
   "pygments_lexer": "ipython3",
   "version": "3.12.6"
  }
 },
 "nbformat": 4,
 "nbformat_minor": 2
}
